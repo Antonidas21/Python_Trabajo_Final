{
 "cells": [
  {
   "cell_type": "markdown",
   "metadata": {},
   "source": [
    "# Carga de ficheros de renta por sección.\n",
    "\n",
    "En esta sección vamos a proceder a la carga de los ficheros de renta por persona y por secciones de población.\n",
    "\n",
    "Para ello instalaremos las siguientes librerías:"
   ]
  },
  {
   "cell_type": "code",
   "execution_count": 7,
   "metadata": {
    "scrolled": true
   },
   "outputs": [],
   "source": [
    "import pandas as pd\n",
    "import re\n",
    "import plotly.graph_objects as go\n"
   ]
  },
  {
   "cell_type": "markdown",
   "metadata": {},
   "source": [
    "Los datos los hemos obtenido de la página del Instituto Nacional de Estadística [INE](https://www.ine.es/welcome.shtml). Hemos decidido descargar los datos con la definición máxima posible, por secciones. El formato de la descarga ha sido en CSV, separado por \";\", con decimales \",\" y los millares \".\".\n",
    "\n",
    "A continuación mostramos la función diseñada para cargar los CSV y generar el dataframe de trabajo:\n"
   ]
  },
  {
   "cell_type": "code",
   "execution_count": 4,
   "metadata": {
    "scrolled": true
   },
   "outputs": [
    {
     "data": {
      "text/html": [
       "<div>\n",
       "<style scoped>\n",
       "    .dataframe tbody tr th:only-of-type {\n",
       "        vertical-align: middle;\n",
       "    }\n",
       "\n",
       "    .dataframe tbody tr th {\n",
       "        vertical-align: top;\n",
       "    }\n",
       "\n",
       "    .dataframe thead th {\n",
       "        text-align: right;\n",
       "    }\n",
       "</style>\n",
       "<table border=\"1\" class=\"dataframe\">\n",
       "  <thead>\n",
       "    <tr style=\"text-align: right;\">\n",
       "      <th></th>\n",
       "      <th>provincia</th>\n",
       "      <th>poblacion</th>\n",
       "      <th>NIE</th>\n",
       "      <th>renta</th>\n",
       "    </tr>\n",
       "  </thead>\n",
       "  <tbody>\n",
       "    <tr>\n",
       "      <td>0</td>\n",
       "      <td>Alava</td>\n",
       "      <td>Agurain/Salvatierra</td>\n",
       "      <td>1051</td>\n",
       "      <td>12374.0</td>\n",
       "    </tr>\n",
       "    <tr>\n",
       "      <td>1</td>\n",
       "      <td>Alava</td>\n",
       "      <td>Alegría-Dulantzi</td>\n",
       "      <td>1001</td>\n",
       "      <td>13086.0</td>\n",
       "    </tr>\n",
       "    <tr>\n",
       "      <td>2</td>\n",
       "      <td>Alava</td>\n",
       "      <td>Amurrio</td>\n",
       "      <td>1002</td>\n",
       "      <td>13691.0</td>\n",
       "    </tr>\n",
       "    <tr>\n",
       "      <td>3</td>\n",
       "      <td>Alava</td>\n",
       "      <td>Añana</td>\n",
       "      <td>1049</td>\n",
       "      <td>15548.0</td>\n",
       "    </tr>\n",
       "    <tr>\n",
       "      <td>4</td>\n",
       "      <td>Alava</td>\n",
       "      <td>Aramaio</td>\n",
       "      <td>1003</td>\n",
       "      <td>17194.0</td>\n",
       "    </tr>\n",
       "    <tr>\n",
       "      <td>...</td>\n",
       "      <td>...</td>\n",
       "      <td>...</td>\n",
       "      <td>...</td>\n",
       "      <td>...</td>\n",
       "    </tr>\n",
       "    <tr>\n",
       "      <td>36284</td>\n",
       "      <td>Zaragoza</td>\n",
       "      <td>Zaragoza</td>\n",
       "      <td>5029712010</td>\n",
       "      <td>14085.0</td>\n",
       "    </tr>\n",
       "    <tr>\n",
       "      <td>36285</td>\n",
       "      <td>Zaragoza</td>\n",
       "      <td>Zuera</td>\n",
       "      <td>5029801001</td>\n",
       "      <td>12307.0</td>\n",
       "    </tr>\n",
       "    <tr>\n",
       "      <td>36286</td>\n",
       "      <td>Zaragoza</td>\n",
       "      <td>Zuera</td>\n",
       "      <td>5029801002</td>\n",
       "      <td>10848.0</td>\n",
       "    </tr>\n",
       "    <tr>\n",
       "      <td>36287</td>\n",
       "      <td>Zaragoza</td>\n",
       "      <td>Zuera</td>\n",
       "      <td>5029801003</td>\n",
       "      <td>10726.0</td>\n",
       "    </tr>\n",
       "    <tr>\n",
       "      <td>36288</td>\n",
       "      <td>Zaragoza</td>\n",
       "      <td>Zuera</td>\n",
       "      <td>5029802001</td>\n",
       "      <td>12449.0</td>\n",
       "    </tr>\n",
       "  </tbody>\n",
       "</table>\n",
       "<p>36289 rows × 4 columns</p>\n",
       "</div>"
      ],
      "text/plain": [
       "      provincia            poblacion         NIE    renta\n",
       "0         Alava  Agurain/Salvatierra        1051  12374.0\n",
       "1         Alava     Alegría-Dulantzi        1001  13086.0\n",
       "2         Alava              Amurrio        1002  13691.0\n",
       "3         Alava                Añana        1049  15548.0\n",
       "4         Alava              Aramaio        1003  17194.0\n",
       "...         ...                  ...         ...      ...\n",
       "36284  Zaragoza             Zaragoza  5029712010  14085.0\n",
       "36285  Zaragoza                Zuera  5029801001  12307.0\n",
       "36286  Zaragoza                Zuera  5029801002  10848.0\n",
       "36287  Zaragoza                Zuera  5029801003  10726.0\n",
       "36288  Zaragoza                Zuera  5029802001  12449.0\n",
       "\n",
       "[36289 rows x 4 columns]"
      ]
     },
     "execution_count": 4,
     "metadata": {},
     "output_type": "execute_result"
    }
   ],
   "source": [
    "bbdd = [\"Alava\",\"Albacete\",\"Alicante\",\"Almeria\",\"Asturias\",\"Avila\",\"Badajoz\",\"Barcelona\",\n",
    "        \"Bizkaia\",\"Burgos\",\"Caceres\",\"Cadiz\",\"Cantabria\",\"Islas Baleares\",\"Castellon\",\"Ceuta\",\"Ciudad Real\",\n",
    "        \"Cordoba\",\"Coruña\",\"Cuenca\",\"Gipuzkoa\",\"Girona\",\"Granada\",\"Guadalajara\",\"Huelva\",\"Huesca\",\"Jaen\",\"La Rioja\",\n",
    "        \"Las Palmas\",\"Leon\",\"LLeida\",\"Lugo\",\"Madrid\",\"Malaga\",\"Melilla\",\"Murcia\",\"Navarra\",\"Ourense\",\"Palencia\",\"Pontevedra\",\n",
    "        \"Salamanca\",\"Santa Cruz de Tenerife\",\"Segovia\",\"Sevilla\",\"Soria\",\"Tarragona\",\"Teruel\",\"Toledo\",\"Valencia\",\n",
    "        \"Valladolid\",\"Zamora\",\"Zaragoza\"]\n",
    "\n",
    "\n",
    "def get_BBDD_rentas (bbdd):\n",
    "    #Carga de ficheros CSV\n",
    "    base = []\n",
    "    NIE = []\n",
    "    renta = []\n",
    "    poblacion = []\n",
    "    provincias = []\n",
    "    for i in bbdd:\n",
    "        provincia = i\n",
    "        datos = pd.read_csv('datos_renta/'+i+'.csv', index_col=False,encoding='iso-8859-1'\n",
    "                            ,sep=';',skiprows=5, decimal= ',',thousands='.')\n",
    "        datos.rename(columns={'Unnamed: 0':'identificador','2016':'renta'},inplace=True)\n",
    "        datos.drop(datos.tail(3).index,inplace=True)\n",
    "        for i in range(len(datos.identificador)):\n",
    "            provincias.append(provincia)\n",
    "        for i in range(len(datos.identificador)):\n",
    "            NIE_value = int(re.findall(\"[0-9]+\", datos.identificador[i])[0])\n",
    "            NIE.append(NIE_value) \n",
    "        for i in range(len(datos.identificador)):\n",
    "             nombre = re.findall(\"[a-zA-Záéíóúñ\\\\- /]+\", datos.identificador[i])[0]\n",
    "             nombre = re.sub(\" sección\",\"\",nombre)\n",
    "             nombre = re.sub(\" secci\",\"\",nombre)\n",
    "             nombre = re.sub(\"^ \",\"\",nombre)\n",
    "             nombre = re.sub(\" $\",\"\",nombre)\n",
    "             poblacion.append(nombre)\n",
    "        for i in range(len(datos.identificador)):\n",
    "            if datos.renta[i] == '.':\n",
    "                datos.renta[i] = float('NaN')\n",
    "            if isinstance(datos.renta[i],str) == True:\n",
    "                renta_value = float(re.sub(\"\\\\.0\",\"\",datos.renta[i]))\n",
    "                renta.append(renta_value)\n",
    "            else:\n",
    "                renta_value = float(datos.renta[i])\n",
    "                renta.append(renta_value)\n",
    "    d = {'provincia':provincias,'poblacion':poblacion,'NIE':NIE,'renta':renta}\n",
    "    datos = pd.DataFrame(d)\n",
    "    return datos\n",
    "\n",
    "basedatos = get_BBDD_rentas(bbdd)\n",
    "basedatos"
   ]
  },
  {
   "cell_type": "markdown",
   "metadata": {},
   "source": [
    "## Funcionamiento de get_BBDD_rentas\n",
    "La función descrita más arriba es el resultado de usar la táctica \"Divide y vencerás\". Se hizo una primera limpieza para sólo un CSV y después se contruyó una función que lo hiciese para todos los CSV. Aunque no fue tan sencillo ya que el formato no es uniforme en todos los CSV del INE.\n",
    "\n",
    "A la función sólamente debemos de pasarle una lista de las provincias de las que se quiere realizar la carga de datos. En nuestro caso, son todas los existentes, un CSV por provincia. Generamos listas vacías para acumular los datos con el formato deseado y entramos en el loop principal que recorrerá la lista insertada e irá cargando todos los ficheros.\n",
    "\n",
    "Una vez están los ficheros cargados se almacena en ```datos```. Los datos obtenidos son muy crudos; dos columnas, una con la renta y otro con una descripción donde se incluye la población, el codigo INE y la sección. Para subsanar esta \"aglomeración\" de datos, se ha preparado un loop por cada valor a incluir en el dataframe final; ```provincia ```,```poblacion ```,```INE ``` y ```renta ```.\n",
    "\n",
    "### Limpieza y formateo de los datos cargados.\n",
    "\n",
    "#### Provincia.\n",
    "Aprovechando que el loop principal ya está usando el nombre de la provincia, se crea un loop para generar una lista de longitud el dataframe final y con el nombre de la provincia repetido tantas veces como filas de datos tenga la provincia cargada.\n",
    "#### INE.\n",
    "Usando ```regex``` obtenemos todos los números de la columna \"identificado\"´de los CSV cargados, que no es más que la descripción que queremos limpiar.\n",
    "#### Poblacion.\n",
    "Volviendo a usar ```regex``` pero esta vez con algo más de contundencia. Primero obtenemos todos los caracteres que hemos observado que aparecen como parte del nombre de la población para seguidamente quitarle tanto \"sección\" como \"secci\" (en algunos CSV sección aparecía como secci). Finalmente retiramos los posibles espacios que existan tanto al inicio como al fin del nombre.\n",
    "#### Renta.\n",
    "Aparentemente la más sencilla, pero analizando bien los datos hemos comprobado que no todos siguen los mismos criterios. Existen valores vacíos, valores con un \".\" como valor y otros que efectivamente son dato. Hemos usado otra condición más porque en el CSV de Teruel incluyeron renta (que son valores enteros) con un \".0\" al final de cada valor.\n",
    "\n",
    "### Generación del data frame\n",
    "Una vez listados todos los datos formateados en sus correspondientes listas vacías, generamos un diccionario con dichas listas y usando la funcion pd.DataFrame generamos el DF \"datos\"."
   ]
  },
  {
   "cell_type": "markdown",
   "metadata": {},
   "source": [
    "## Impresión de tabla.\n",
    "Para mostrar los datos del dataframe ```basedatos``` hemos decidido usar la librería ```plotly```. Esta librería tiene muchas opciones de personalización de una forma muy sencilla. Como añadido, posibilitamos que se pueda hacer un prefiltro (```basedatos``` tiene más de 36.000 filas).\n",
    "\n",
    "### Prefiltro.\n",
    "De una forma sencilla, posibilitamos que se pueda filtrar por provincia, población o código INE. Se selecciona una de las tres opciones y se indica el valor por el cual filtrar.\n",
    "(p.e.: pruebe a introducir filtro por población ```2``` y filtre por ```Oleiros```.\n",
    "\n",
    "Otra opción contemplada es que introduzca cualquier otro valor diferente a los descritos para que se muestre toda la tabla, ordenada por renta de mayor a menor.\n",
    "\n",
    "### Generación de la tabla\n",
    "Basicamente la función ```Table``` de la librería ```plotly.graph_objects``` permite personalizar el formato de la tabla de un DataFrame de pandas. En nuestro caso hemos modificado el encabezado ( a través de ```header```) y las celdas (a través de ```cell```). \n",
    "\n",
    "Se ha decidido cambiar el color tanto del encabezado como de las celdas. En las celdas en concreto se han puesto colores para las columnas pares y otros para los impares para facilitar la lectura de la tabla. De la misma forma, en el encabezado se ha modificado el tamaño y aspecto de la fuente.\n"
   ]
  },
  {
   "cell_type": "code",
   "execution_count": 6,
   "metadata": {},
   "outputs": [
    {
     "name": "stdout",
     "output_type": "stream",
     "text": [
      "Para facilitar la visualización de la tabla vamos a realizar unos filtros:\n",
      "Filtro por provincia, insertar 1\n",
      "Filtro por poblacion, insertar 2\n",
      "Filtro por código INE, insertar 3\n",
      "Si quiere visualizar toda la tabla, introduzca cualquier otro valor\n",
      "2\n",
      "A continuación se muestran las poblaciones disponibles:\n",
      "['Donostia/San Sebastián' 'Val' 'Getxo' ... 'Villarroya del Campo' 'Vilue'\n",
      " 'Vistabella']\n",
      "Introduzca el nombre de la poblacion:\n",
      "Oleiros\n"
     ]
    },
    {
     "data": {
      "application/vnd.plotly.v1+json": {
       "config": {
        "plotlyServerURL": "https://plot.ly"
       },
       "data": [
        {
         "cells": {
          "fill": {
           "color": [
            "lemonchiffon",
            "khaki",
            "lemonchiffon",
            "khaki"
           ]
          },
          "values": [
           [
            "Coruña",
            "Coruña",
            "Coruña",
            "Coruña",
            "Coruña",
            "Coruña",
            "Coruña",
            "Coruña",
            "Coruña",
            "Coruña",
            "Coruña",
            "Coruña",
            "Coruña",
            "Coruña",
            "Coruña",
            "Coruña",
            "Coruña",
            "Coruña",
            "Coruña",
            "Coruña",
            "Coruña"
           ],
           [
            "Oleiros",
            "Oleiros",
            "Oleiros",
            "Oleiros",
            "Oleiros",
            "Oleiros",
            "Oleiros",
            "Oleiros",
            "Oleiros",
            "Oleiros",
            "Oleiros",
            "Oleiros",
            "Oleiros",
            "Oleiros",
            "Oleiros",
            "Oleiros",
            "Oleiros",
            "Oleiros",
            "Oleiros",
            "Oleiros",
            "Oleiros"
           ],
           [
            1505802011,
            1505801005,
            1505802004,
            1505802012,
            1505802008,
            1505802002,
            1505802009,
            1505801003,
            1505801001,
            1505802010,
            1505802001,
            1505803002,
            1505801002,
            1505803003,
            1505801004,
            1505802003,
            1505802006,
            1505802007,
            1505802005,
            1505803001,
            1505801006
           ],
           [
            28606,
            27229,
            19632,
            18892,
            16352,
            14935,
            14832,
            14301,
            14058,
            13970,
            13963,
            13909,
            13786,
            12653,
            12590,
            12537,
            12482,
            12234,
            11380,
            11238,
            9154
           ]
          ]
         },
         "header": {
          "fill": {
           "color": "goldenrod"
          },
          "font": {
           "color": "white",
           "size": 20
          },
          "values": [
           "Provincia",
           "Población",
           "INE",
           "<b>Renta(€)</b>"
          ]
         },
         "type": "table"
        }
       ],
       "layout": {
        "template": {
         "data": {
          "bar": [
           {
            "error_x": {
             "color": "#2a3f5f"
            },
            "error_y": {
             "color": "#2a3f5f"
            },
            "marker": {
             "line": {
              "color": "#E5ECF6",
              "width": 0.5
             }
            },
            "type": "bar"
           }
          ],
          "barpolar": [
           {
            "marker": {
             "line": {
              "color": "#E5ECF6",
              "width": 0.5
             }
            },
            "type": "barpolar"
           }
          ],
          "carpet": [
           {
            "aaxis": {
             "endlinecolor": "#2a3f5f",
             "gridcolor": "white",
             "linecolor": "white",
             "minorgridcolor": "white",
             "startlinecolor": "#2a3f5f"
            },
            "baxis": {
             "endlinecolor": "#2a3f5f",
             "gridcolor": "white",
             "linecolor": "white",
             "minorgridcolor": "white",
             "startlinecolor": "#2a3f5f"
            },
            "type": "carpet"
           }
          ],
          "choropleth": [
           {
            "colorbar": {
             "outlinewidth": 0,
             "ticks": ""
            },
            "type": "choropleth"
           }
          ],
          "contour": [
           {
            "colorbar": {
             "outlinewidth": 0,
             "ticks": ""
            },
            "colorscale": [
             [
              0,
              "#0d0887"
             ],
             [
              0.1111111111111111,
              "#46039f"
             ],
             [
              0.2222222222222222,
              "#7201a8"
             ],
             [
              0.3333333333333333,
              "#9c179e"
             ],
             [
              0.4444444444444444,
              "#bd3786"
             ],
             [
              0.5555555555555556,
              "#d8576b"
             ],
             [
              0.6666666666666666,
              "#ed7953"
             ],
             [
              0.7777777777777778,
              "#fb9f3a"
             ],
             [
              0.8888888888888888,
              "#fdca26"
             ],
             [
              1,
              "#f0f921"
             ]
            ],
            "type": "contour"
           }
          ],
          "contourcarpet": [
           {
            "colorbar": {
             "outlinewidth": 0,
             "ticks": ""
            },
            "type": "contourcarpet"
           }
          ],
          "heatmap": [
           {
            "colorbar": {
             "outlinewidth": 0,
             "ticks": ""
            },
            "colorscale": [
             [
              0,
              "#0d0887"
             ],
             [
              0.1111111111111111,
              "#46039f"
             ],
             [
              0.2222222222222222,
              "#7201a8"
             ],
             [
              0.3333333333333333,
              "#9c179e"
             ],
             [
              0.4444444444444444,
              "#bd3786"
             ],
             [
              0.5555555555555556,
              "#d8576b"
             ],
             [
              0.6666666666666666,
              "#ed7953"
             ],
             [
              0.7777777777777778,
              "#fb9f3a"
             ],
             [
              0.8888888888888888,
              "#fdca26"
             ],
             [
              1,
              "#f0f921"
             ]
            ],
            "type": "heatmap"
           }
          ],
          "heatmapgl": [
           {
            "colorbar": {
             "outlinewidth": 0,
             "ticks": ""
            },
            "colorscale": [
             [
              0,
              "#0d0887"
             ],
             [
              0.1111111111111111,
              "#46039f"
             ],
             [
              0.2222222222222222,
              "#7201a8"
             ],
             [
              0.3333333333333333,
              "#9c179e"
             ],
             [
              0.4444444444444444,
              "#bd3786"
             ],
             [
              0.5555555555555556,
              "#d8576b"
             ],
             [
              0.6666666666666666,
              "#ed7953"
             ],
             [
              0.7777777777777778,
              "#fb9f3a"
             ],
             [
              0.8888888888888888,
              "#fdca26"
             ],
             [
              1,
              "#f0f921"
             ]
            ],
            "type": "heatmapgl"
           }
          ],
          "histogram": [
           {
            "marker": {
             "colorbar": {
              "outlinewidth": 0,
              "ticks": ""
             }
            },
            "type": "histogram"
           }
          ],
          "histogram2d": [
           {
            "colorbar": {
             "outlinewidth": 0,
             "ticks": ""
            },
            "colorscale": [
             [
              0,
              "#0d0887"
             ],
             [
              0.1111111111111111,
              "#46039f"
             ],
             [
              0.2222222222222222,
              "#7201a8"
             ],
             [
              0.3333333333333333,
              "#9c179e"
             ],
             [
              0.4444444444444444,
              "#bd3786"
             ],
             [
              0.5555555555555556,
              "#d8576b"
             ],
             [
              0.6666666666666666,
              "#ed7953"
             ],
             [
              0.7777777777777778,
              "#fb9f3a"
             ],
             [
              0.8888888888888888,
              "#fdca26"
             ],
             [
              1,
              "#f0f921"
             ]
            ],
            "type": "histogram2d"
           }
          ],
          "histogram2dcontour": [
           {
            "colorbar": {
             "outlinewidth": 0,
             "ticks": ""
            },
            "colorscale": [
             [
              0,
              "#0d0887"
             ],
             [
              0.1111111111111111,
              "#46039f"
             ],
             [
              0.2222222222222222,
              "#7201a8"
             ],
             [
              0.3333333333333333,
              "#9c179e"
             ],
             [
              0.4444444444444444,
              "#bd3786"
             ],
             [
              0.5555555555555556,
              "#d8576b"
             ],
             [
              0.6666666666666666,
              "#ed7953"
             ],
             [
              0.7777777777777778,
              "#fb9f3a"
             ],
             [
              0.8888888888888888,
              "#fdca26"
             ],
             [
              1,
              "#f0f921"
             ]
            ],
            "type": "histogram2dcontour"
           }
          ],
          "mesh3d": [
           {
            "colorbar": {
             "outlinewidth": 0,
             "ticks": ""
            },
            "type": "mesh3d"
           }
          ],
          "parcoords": [
           {
            "line": {
             "colorbar": {
              "outlinewidth": 0,
              "ticks": ""
             }
            },
            "type": "parcoords"
           }
          ],
          "pie": [
           {
            "automargin": true,
            "type": "pie"
           }
          ],
          "scatter": [
           {
            "marker": {
             "colorbar": {
              "outlinewidth": 0,
              "ticks": ""
             }
            },
            "type": "scatter"
           }
          ],
          "scatter3d": [
           {
            "line": {
             "colorbar": {
              "outlinewidth": 0,
              "ticks": ""
             }
            },
            "marker": {
             "colorbar": {
              "outlinewidth": 0,
              "ticks": ""
             }
            },
            "type": "scatter3d"
           }
          ],
          "scattercarpet": [
           {
            "marker": {
             "colorbar": {
              "outlinewidth": 0,
              "ticks": ""
             }
            },
            "type": "scattercarpet"
           }
          ],
          "scattergeo": [
           {
            "marker": {
             "colorbar": {
              "outlinewidth": 0,
              "ticks": ""
             }
            },
            "type": "scattergeo"
           }
          ],
          "scattergl": [
           {
            "marker": {
             "colorbar": {
              "outlinewidth": 0,
              "ticks": ""
             }
            },
            "type": "scattergl"
           }
          ],
          "scattermapbox": [
           {
            "marker": {
             "colorbar": {
              "outlinewidth": 0,
              "ticks": ""
             }
            },
            "type": "scattermapbox"
           }
          ],
          "scatterpolar": [
           {
            "marker": {
             "colorbar": {
              "outlinewidth": 0,
              "ticks": ""
             }
            },
            "type": "scatterpolar"
           }
          ],
          "scatterpolargl": [
           {
            "marker": {
             "colorbar": {
              "outlinewidth": 0,
              "ticks": ""
             }
            },
            "type": "scatterpolargl"
           }
          ],
          "scatterternary": [
           {
            "marker": {
             "colorbar": {
              "outlinewidth": 0,
              "ticks": ""
             }
            },
            "type": "scatterternary"
           }
          ],
          "surface": [
           {
            "colorbar": {
             "outlinewidth": 0,
             "ticks": ""
            },
            "colorscale": [
             [
              0,
              "#0d0887"
             ],
             [
              0.1111111111111111,
              "#46039f"
             ],
             [
              0.2222222222222222,
              "#7201a8"
             ],
             [
              0.3333333333333333,
              "#9c179e"
             ],
             [
              0.4444444444444444,
              "#bd3786"
             ],
             [
              0.5555555555555556,
              "#d8576b"
             ],
             [
              0.6666666666666666,
              "#ed7953"
             ],
             [
              0.7777777777777778,
              "#fb9f3a"
             ],
             [
              0.8888888888888888,
              "#fdca26"
             ],
             [
              1,
              "#f0f921"
             ]
            ],
            "type": "surface"
           }
          ],
          "table": [
           {
            "cells": {
             "fill": {
              "color": "#EBF0F8"
             },
             "line": {
              "color": "white"
             }
            },
            "header": {
             "fill": {
              "color": "#C8D4E3"
             },
             "line": {
              "color": "white"
             }
            },
            "type": "table"
           }
          ]
         },
         "layout": {
          "annotationdefaults": {
           "arrowcolor": "#2a3f5f",
           "arrowhead": 0,
           "arrowwidth": 1
          },
          "coloraxis": {
           "colorbar": {
            "outlinewidth": 0,
            "ticks": ""
           }
          },
          "colorscale": {
           "diverging": [
            [
             0,
             "#8e0152"
            ],
            [
             0.1,
             "#c51b7d"
            ],
            [
             0.2,
             "#de77ae"
            ],
            [
             0.3,
             "#f1b6da"
            ],
            [
             0.4,
             "#fde0ef"
            ],
            [
             0.5,
             "#f7f7f7"
            ],
            [
             0.6,
             "#e6f5d0"
            ],
            [
             0.7,
             "#b8e186"
            ],
            [
             0.8,
             "#7fbc41"
            ],
            [
             0.9,
             "#4d9221"
            ],
            [
             1,
             "#276419"
            ]
           ],
           "sequential": [
            [
             0,
             "#0d0887"
            ],
            [
             0.1111111111111111,
             "#46039f"
            ],
            [
             0.2222222222222222,
             "#7201a8"
            ],
            [
             0.3333333333333333,
             "#9c179e"
            ],
            [
             0.4444444444444444,
             "#bd3786"
            ],
            [
             0.5555555555555556,
             "#d8576b"
            ],
            [
             0.6666666666666666,
             "#ed7953"
            ],
            [
             0.7777777777777778,
             "#fb9f3a"
            ],
            [
             0.8888888888888888,
             "#fdca26"
            ],
            [
             1,
             "#f0f921"
            ]
           ],
           "sequentialminus": [
            [
             0,
             "#0d0887"
            ],
            [
             0.1111111111111111,
             "#46039f"
            ],
            [
             0.2222222222222222,
             "#7201a8"
            ],
            [
             0.3333333333333333,
             "#9c179e"
            ],
            [
             0.4444444444444444,
             "#bd3786"
            ],
            [
             0.5555555555555556,
             "#d8576b"
            ],
            [
             0.6666666666666666,
             "#ed7953"
            ],
            [
             0.7777777777777778,
             "#fb9f3a"
            ],
            [
             0.8888888888888888,
             "#fdca26"
            ],
            [
             1,
             "#f0f921"
            ]
           ]
          },
          "colorway": [
           "#636efa",
           "#EF553B",
           "#00cc96",
           "#ab63fa",
           "#FFA15A",
           "#19d3f3",
           "#FF6692",
           "#B6E880",
           "#FF97FF",
           "#FECB52"
          ],
          "font": {
           "color": "#2a3f5f"
          },
          "geo": {
           "bgcolor": "white",
           "lakecolor": "white",
           "landcolor": "#E5ECF6",
           "showlakes": true,
           "showland": true,
           "subunitcolor": "white"
          },
          "hoverlabel": {
           "align": "left"
          },
          "hovermode": "closest",
          "mapbox": {
           "style": "light"
          },
          "paper_bgcolor": "white",
          "plot_bgcolor": "#E5ECF6",
          "polar": {
           "angularaxis": {
            "gridcolor": "white",
            "linecolor": "white",
            "ticks": ""
           },
           "bgcolor": "#E5ECF6",
           "radialaxis": {
            "gridcolor": "white",
            "linecolor": "white",
            "ticks": ""
           }
          },
          "scene": {
           "xaxis": {
            "backgroundcolor": "#E5ECF6",
            "gridcolor": "white",
            "gridwidth": 2,
            "linecolor": "white",
            "showbackground": true,
            "ticks": "",
            "zerolinecolor": "white"
           },
           "yaxis": {
            "backgroundcolor": "#E5ECF6",
            "gridcolor": "white",
            "gridwidth": 2,
            "linecolor": "white",
            "showbackground": true,
            "ticks": "",
            "zerolinecolor": "white"
           },
           "zaxis": {
            "backgroundcolor": "#E5ECF6",
            "gridcolor": "white",
            "gridwidth": 2,
            "linecolor": "white",
            "showbackground": true,
            "ticks": "",
            "zerolinecolor": "white"
           }
          },
          "shapedefaults": {
           "line": {
            "color": "#2a3f5f"
           }
          },
          "ternary": {
           "aaxis": {
            "gridcolor": "white",
            "linecolor": "white",
            "ticks": ""
           },
           "baxis": {
            "gridcolor": "white",
            "linecolor": "white",
            "ticks": ""
           },
           "bgcolor": "#E5ECF6",
           "caxis": {
            "gridcolor": "white",
            "linecolor": "white",
            "ticks": ""
           }
          },
          "title": {
           "x": 0.05
          },
          "xaxis": {
           "automargin": true,
           "gridcolor": "white",
           "linecolor": "white",
           "ticks": "",
           "title": {
            "standoff": 15
           },
           "zerolinecolor": "white",
           "zerolinewidth": 2
          },
          "yaxis": {
           "automargin": true,
           "gridcolor": "white",
           "linecolor": "white",
           "ticks": "",
           "title": {
            "standoff": 15
           },
           "zerolinecolor": "white",
           "zerolinewidth": 2
          }
         }
        }
       }
      },
      "text/html": [
       "<div>\n",
       "        \n",
       "        \n",
       "            <div id=\"f21b332f-f2b5-4e3e-a772-f49f6f5eb49b\" class=\"plotly-graph-div\" style=\"height:525px; width:100%;\"></div>\n",
       "            <script type=\"text/javascript\">\n",
       "                require([\"plotly\"], function(Plotly) {\n",
       "                    window.PLOTLYENV=window.PLOTLYENV || {};\n",
       "                    \n",
       "                if (document.getElementById(\"f21b332f-f2b5-4e3e-a772-f49f6f5eb49b\")) {\n",
       "                    Plotly.newPlot(\n",
       "                        'f21b332f-f2b5-4e3e-a772-f49f6f5eb49b',\n",
       "                        [{\"cells\": {\"fill\": {\"color\": [\"lemonchiffon\", \"khaki\", \"lemonchiffon\", \"khaki\"]}, \"values\": [[\"Coru\\u00f1a\", \"Coru\\u00f1a\", \"Coru\\u00f1a\", \"Coru\\u00f1a\", \"Coru\\u00f1a\", \"Coru\\u00f1a\", \"Coru\\u00f1a\", \"Coru\\u00f1a\", \"Coru\\u00f1a\", \"Coru\\u00f1a\", \"Coru\\u00f1a\", \"Coru\\u00f1a\", \"Coru\\u00f1a\", \"Coru\\u00f1a\", \"Coru\\u00f1a\", \"Coru\\u00f1a\", \"Coru\\u00f1a\", \"Coru\\u00f1a\", \"Coru\\u00f1a\", \"Coru\\u00f1a\", \"Coru\\u00f1a\"], [\"Oleiros\", \"Oleiros\", \"Oleiros\", \"Oleiros\", \"Oleiros\", \"Oleiros\", \"Oleiros\", \"Oleiros\", \"Oleiros\", \"Oleiros\", \"Oleiros\", \"Oleiros\", \"Oleiros\", \"Oleiros\", \"Oleiros\", \"Oleiros\", \"Oleiros\", \"Oleiros\", \"Oleiros\", \"Oleiros\", \"Oleiros\"], [1505802011, 1505801005, 1505802004, 1505802012, 1505802008, 1505802002, 1505802009, 1505801003, 1505801001, 1505802010, 1505802001, 1505803002, 1505801002, 1505803003, 1505801004, 1505802003, 1505802006, 1505802007, 1505802005, 1505803001, 1505801006], [28606.0, 27229.0, 19632.0, 18892.0, 16352.0, 14935.0, 14832.0, 14301.0, 14058.0, 13970.0, 13963.0, 13909.0, 13786.0, 12653.0, 12590.0, 12537.0, 12482.0, 12234.0, 11380.0, 11238.0, 9154.0]]}, \"header\": {\"fill\": {\"color\": \"goldenrod\"}, \"font\": {\"color\": \"white\", \"size\": 20}, \"values\": [\"Provincia\", \"Poblaci\\u00f3n\", \"INE\", \"<b>Renta(\\u20ac)</b>\"]}, \"type\": \"table\"}],\n",
       "                        {\"template\": {\"data\": {\"bar\": [{\"error_x\": {\"color\": \"#2a3f5f\"}, \"error_y\": {\"color\": \"#2a3f5f\"}, \"marker\": {\"line\": {\"color\": \"#E5ECF6\", \"width\": 0.5}}, \"type\": \"bar\"}], \"barpolar\": [{\"marker\": {\"line\": {\"color\": \"#E5ECF6\", \"width\": 0.5}}, \"type\": \"barpolar\"}], \"carpet\": [{\"aaxis\": {\"endlinecolor\": \"#2a3f5f\", \"gridcolor\": \"white\", \"linecolor\": \"white\", \"minorgridcolor\": \"white\", \"startlinecolor\": \"#2a3f5f\"}, \"baxis\": {\"endlinecolor\": \"#2a3f5f\", \"gridcolor\": \"white\", \"linecolor\": \"white\", \"minorgridcolor\": \"white\", \"startlinecolor\": \"#2a3f5f\"}, \"type\": \"carpet\"}], \"choropleth\": [{\"colorbar\": {\"outlinewidth\": 0, \"ticks\": \"\"}, \"type\": \"choropleth\"}], \"contour\": [{\"colorbar\": {\"outlinewidth\": 0, \"ticks\": \"\"}, \"colorscale\": [[0.0, \"#0d0887\"], [0.1111111111111111, \"#46039f\"], [0.2222222222222222, \"#7201a8\"], [0.3333333333333333, \"#9c179e\"], [0.4444444444444444, \"#bd3786\"], [0.5555555555555556, \"#d8576b\"], [0.6666666666666666, \"#ed7953\"], [0.7777777777777778, \"#fb9f3a\"], [0.8888888888888888, \"#fdca26\"], [1.0, \"#f0f921\"]], \"type\": \"contour\"}], \"contourcarpet\": [{\"colorbar\": {\"outlinewidth\": 0, \"ticks\": \"\"}, \"type\": \"contourcarpet\"}], \"heatmap\": [{\"colorbar\": {\"outlinewidth\": 0, \"ticks\": \"\"}, \"colorscale\": [[0.0, \"#0d0887\"], [0.1111111111111111, \"#46039f\"], [0.2222222222222222, \"#7201a8\"], [0.3333333333333333, \"#9c179e\"], [0.4444444444444444, \"#bd3786\"], [0.5555555555555556, \"#d8576b\"], [0.6666666666666666, \"#ed7953\"], [0.7777777777777778, \"#fb9f3a\"], [0.8888888888888888, \"#fdca26\"], [1.0, \"#f0f921\"]], \"type\": \"heatmap\"}], \"heatmapgl\": [{\"colorbar\": {\"outlinewidth\": 0, \"ticks\": \"\"}, \"colorscale\": [[0.0, \"#0d0887\"], [0.1111111111111111, \"#46039f\"], [0.2222222222222222, \"#7201a8\"], [0.3333333333333333, \"#9c179e\"], [0.4444444444444444, \"#bd3786\"], [0.5555555555555556, \"#d8576b\"], [0.6666666666666666, \"#ed7953\"], [0.7777777777777778, \"#fb9f3a\"], [0.8888888888888888, \"#fdca26\"], [1.0, \"#f0f921\"]], \"type\": \"heatmapgl\"}], \"histogram\": [{\"marker\": {\"colorbar\": {\"outlinewidth\": 0, \"ticks\": \"\"}}, \"type\": \"histogram\"}], \"histogram2d\": [{\"colorbar\": {\"outlinewidth\": 0, \"ticks\": \"\"}, \"colorscale\": [[0.0, \"#0d0887\"], [0.1111111111111111, \"#46039f\"], [0.2222222222222222, \"#7201a8\"], [0.3333333333333333, \"#9c179e\"], [0.4444444444444444, \"#bd3786\"], [0.5555555555555556, \"#d8576b\"], [0.6666666666666666, \"#ed7953\"], [0.7777777777777778, \"#fb9f3a\"], [0.8888888888888888, \"#fdca26\"], [1.0, \"#f0f921\"]], \"type\": \"histogram2d\"}], \"histogram2dcontour\": [{\"colorbar\": {\"outlinewidth\": 0, \"ticks\": \"\"}, \"colorscale\": [[0.0, \"#0d0887\"], [0.1111111111111111, \"#46039f\"], [0.2222222222222222, \"#7201a8\"], [0.3333333333333333, \"#9c179e\"], [0.4444444444444444, \"#bd3786\"], [0.5555555555555556, \"#d8576b\"], [0.6666666666666666, \"#ed7953\"], [0.7777777777777778, \"#fb9f3a\"], [0.8888888888888888, \"#fdca26\"], [1.0, \"#f0f921\"]], \"type\": \"histogram2dcontour\"}], \"mesh3d\": [{\"colorbar\": {\"outlinewidth\": 0, \"ticks\": \"\"}, \"type\": \"mesh3d\"}], \"parcoords\": [{\"line\": {\"colorbar\": {\"outlinewidth\": 0, \"ticks\": \"\"}}, \"type\": \"parcoords\"}], \"pie\": [{\"automargin\": true, \"type\": \"pie\"}], \"scatter\": [{\"marker\": {\"colorbar\": {\"outlinewidth\": 0, \"ticks\": \"\"}}, \"type\": \"scatter\"}], \"scatter3d\": [{\"line\": {\"colorbar\": {\"outlinewidth\": 0, \"ticks\": \"\"}}, \"marker\": {\"colorbar\": {\"outlinewidth\": 0, \"ticks\": \"\"}}, \"type\": \"scatter3d\"}], \"scattercarpet\": [{\"marker\": {\"colorbar\": {\"outlinewidth\": 0, \"ticks\": \"\"}}, \"type\": \"scattercarpet\"}], \"scattergeo\": [{\"marker\": {\"colorbar\": {\"outlinewidth\": 0, \"ticks\": \"\"}}, \"type\": \"scattergeo\"}], \"scattergl\": [{\"marker\": {\"colorbar\": {\"outlinewidth\": 0, \"ticks\": \"\"}}, \"type\": \"scattergl\"}], \"scattermapbox\": [{\"marker\": {\"colorbar\": {\"outlinewidth\": 0, \"ticks\": \"\"}}, \"type\": \"scattermapbox\"}], \"scatterpolar\": [{\"marker\": {\"colorbar\": {\"outlinewidth\": 0, \"ticks\": \"\"}}, \"type\": \"scatterpolar\"}], \"scatterpolargl\": [{\"marker\": {\"colorbar\": {\"outlinewidth\": 0, \"ticks\": \"\"}}, \"type\": \"scatterpolargl\"}], \"scatterternary\": [{\"marker\": {\"colorbar\": {\"outlinewidth\": 0, \"ticks\": \"\"}}, \"type\": \"scatterternary\"}], \"surface\": [{\"colorbar\": {\"outlinewidth\": 0, \"ticks\": \"\"}, \"colorscale\": [[0.0, \"#0d0887\"], [0.1111111111111111, \"#46039f\"], [0.2222222222222222, \"#7201a8\"], [0.3333333333333333, \"#9c179e\"], [0.4444444444444444, \"#bd3786\"], [0.5555555555555556, \"#d8576b\"], [0.6666666666666666, \"#ed7953\"], [0.7777777777777778, \"#fb9f3a\"], [0.8888888888888888, \"#fdca26\"], [1.0, \"#f0f921\"]], \"type\": \"surface\"}], \"table\": [{\"cells\": {\"fill\": {\"color\": \"#EBF0F8\"}, \"line\": {\"color\": \"white\"}}, \"header\": {\"fill\": {\"color\": \"#C8D4E3\"}, \"line\": {\"color\": \"white\"}}, \"type\": \"table\"}]}, \"layout\": {\"annotationdefaults\": {\"arrowcolor\": \"#2a3f5f\", \"arrowhead\": 0, \"arrowwidth\": 1}, \"coloraxis\": {\"colorbar\": {\"outlinewidth\": 0, \"ticks\": \"\"}}, \"colorscale\": {\"diverging\": [[0, \"#8e0152\"], [0.1, \"#c51b7d\"], [0.2, \"#de77ae\"], [0.3, \"#f1b6da\"], [0.4, \"#fde0ef\"], [0.5, \"#f7f7f7\"], [0.6, \"#e6f5d0\"], [0.7, \"#b8e186\"], [0.8, \"#7fbc41\"], [0.9, \"#4d9221\"], [1, \"#276419\"]], \"sequential\": [[0.0, \"#0d0887\"], [0.1111111111111111, \"#46039f\"], [0.2222222222222222, \"#7201a8\"], [0.3333333333333333, \"#9c179e\"], [0.4444444444444444, \"#bd3786\"], [0.5555555555555556, \"#d8576b\"], [0.6666666666666666, \"#ed7953\"], [0.7777777777777778, \"#fb9f3a\"], [0.8888888888888888, \"#fdca26\"], [1.0, \"#f0f921\"]], \"sequentialminus\": [[0.0, \"#0d0887\"], [0.1111111111111111, \"#46039f\"], [0.2222222222222222, \"#7201a8\"], [0.3333333333333333, \"#9c179e\"], [0.4444444444444444, \"#bd3786\"], [0.5555555555555556, \"#d8576b\"], [0.6666666666666666, \"#ed7953\"], [0.7777777777777778, \"#fb9f3a\"], [0.8888888888888888, \"#fdca26\"], [1.0, \"#f0f921\"]]}, \"colorway\": [\"#636efa\", \"#EF553B\", \"#00cc96\", \"#ab63fa\", \"#FFA15A\", \"#19d3f3\", \"#FF6692\", \"#B6E880\", \"#FF97FF\", \"#FECB52\"], \"font\": {\"color\": \"#2a3f5f\"}, \"geo\": {\"bgcolor\": \"white\", \"lakecolor\": \"white\", \"landcolor\": \"#E5ECF6\", \"showlakes\": true, \"showland\": true, \"subunitcolor\": \"white\"}, \"hoverlabel\": {\"align\": \"left\"}, \"hovermode\": \"closest\", \"mapbox\": {\"style\": \"light\"}, \"paper_bgcolor\": \"white\", \"plot_bgcolor\": \"#E5ECF6\", \"polar\": {\"angularaxis\": {\"gridcolor\": \"white\", \"linecolor\": \"white\", \"ticks\": \"\"}, \"bgcolor\": \"#E5ECF6\", \"radialaxis\": {\"gridcolor\": \"white\", \"linecolor\": \"white\", \"ticks\": \"\"}}, \"scene\": {\"xaxis\": {\"backgroundcolor\": \"#E5ECF6\", \"gridcolor\": \"white\", \"gridwidth\": 2, \"linecolor\": \"white\", \"showbackground\": true, \"ticks\": \"\", \"zerolinecolor\": \"white\"}, \"yaxis\": {\"backgroundcolor\": \"#E5ECF6\", \"gridcolor\": \"white\", \"gridwidth\": 2, \"linecolor\": \"white\", \"showbackground\": true, \"ticks\": \"\", \"zerolinecolor\": \"white\"}, \"zaxis\": {\"backgroundcolor\": \"#E5ECF6\", \"gridcolor\": \"white\", \"gridwidth\": 2, \"linecolor\": \"white\", \"showbackground\": true, \"ticks\": \"\", \"zerolinecolor\": \"white\"}}, \"shapedefaults\": {\"line\": {\"color\": \"#2a3f5f\"}}, \"ternary\": {\"aaxis\": {\"gridcolor\": \"white\", \"linecolor\": \"white\", \"ticks\": \"\"}, \"baxis\": {\"gridcolor\": \"white\", \"linecolor\": \"white\", \"ticks\": \"\"}, \"bgcolor\": \"#E5ECF6\", \"caxis\": {\"gridcolor\": \"white\", \"linecolor\": \"white\", \"ticks\": \"\"}}, \"title\": {\"x\": 0.05}, \"xaxis\": {\"automargin\": true, \"gridcolor\": \"white\", \"linecolor\": \"white\", \"ticks\": \"\", \"title\": {\"standoff\": 15}, \"zerolinecolor\": \"white\", \"zerolinewidth\": 2}, \"yaxis\": {\"automargin\": true, \"gridcolor\": \"white\", \"linecolor\": \"white\", \"ticks\": \"\", \"title\": {\"standoff\": 15}, \"zerolinecolor\": \"white\", \"zerolinewidth\": 2}}}},\n",
       "                        {\"responsive\": true}\n",
       "                    ).then(function(){\n",
       "                            \n",
       "var gd = document.getElementById('f21b332f-f2b5-4e3e-a772-f49f6f5eb49b');\n",
       "var x = new MutationObserver(function (mutations, observer) {{\n",
       "        var display = window.getComputedStyle(gd).display;\n",
       "        if (!display || display === 'none') {{\n",
       "            console.log([gd, 'removed!']);\n",
       "            Plotly.purge(gd);\n",
       "            observer.disconnect();\n",
       "        }}\n",
       "}});\n",
       "\n",
       "// Listen for the removal of the full notebook cells\n",
       "var notebookContainer = gd.closest('#notebook-container');\n",
       "if (notebookContainer) {{\n",
       "    x.observe(notebookContainer, {childList: true});\n",
       "}}\n",
       "\n",
       "// Listen for the clearing of the current output cell\n",
       "var outputEl = gd.closest('.output');\n",
       "if (outputEl) {{\n",
       "    x.observe(outputEl, {childList: true});\n",
       "}}\n",
       "\n",
       "                        })\n",
       "                };\n",
       "                });\n",
       "            </script>\n",
       "        </div>"
      ]
     },
     "metadata": {},
     "output_type": "display_data"
    }
   ],
   "source": [
    "\n",
    "basedatos_tabla = basedatos.sort_values('renta', ascending=False)\n",
    "print(\"Para facilitar la visualización de la tabla vamos a realizar unos filtros:\")\n",
    "print(\"Filtro por provincia, insertar 1\")\n",
    "print(\"Filtro por poblacion, insertar 2\")\n",
    "print(\"Filtro por código INE, insertar 3\")\n",
    "print(\"Si quiere visualizar toda la tabla, introduzca cualquier otro valor\")\n",
    "seleccion = input()\n",
    "if seleccion == \"1\":\n",
    "    print(\"A continuación se muestran las provincias disponibles:\")\n",
    "    print(basedatos_tabla.provincia.unique())\n",
    "    print(\"Introduzca el nombre de la provincia:\")\n",
    "    provincia_selected = input()\n",
    "    basedatos_tabla = basedatos_tabla[basedatos_tabla['provincia'] == provincia_selected]\n",
    "elif seleccion == \"2\":\n",
    "    print(\"A continuación se muestran las poblaciones disponibles:\")\n",
    "    print(basedatos_tabla.poblacion.unique())\n",
    "    print(\"Introduzca el nombre de la poblacion:\")\n",
    "    poblacion_selected = input()\n",
    "    basedatos_tabla = basedatos_tabla[basedatos_tabla['poblacion'] == poblacion_selected]\n",
    "elif seleccion == \"3\":\n",
    "    print(\"Introduzca el código INE:\")\n",
    "    INE_selected = input()\n",
    "    basedatos_tabla = basedatos_tabla[basedatos_tabla['NIE'] == INE_selected]\n",
    "else:\n",
    "    print(\"Se imprimirá toda la tabla\")\n",
    "\n",
    "\n",
    "\n",
    "\n",
    "fig = go.Figure(data=[go.Table(\n",
    "                header = dict(values = ['Provincia','Población','INE','<b>Renta(€)</b>'],\n",
    "                              fill = dict(color = 'goldenrod'),\n",
    "                             font = dict(size = 20, color = 'white')),\n",
    "                cells = dict(values = [basedatos_tabla.provincia, basedatos_tabla.poblacion,\n",
    "                                      basedatos_tabla.NIE,\n",
    "                                      basedatos_tabla.renta],\n",
    "                            fill = dict(color = ['lemonchiffon','khaki','lemonchiffon','khaki'])))\n",
    "                     ])\n",
    "fig.show()"
   ]
  },
  {
   "cell_type": "code",
   "execution_count": null,
   "metadata": {},
   "outputs": [],
   "source": []
  }
 ],
 "metadata": {
  "kernelspec": {
   "display_name": "Python 3",
   "language": "python",
   "name": "python3"
  },
  "language_info": {
   "codemirror_mode": {
    "name": "ipython",
    "version": 3
   },
   "file_extension": ".py",
   "mimetype": "text/x-python",
   "name": "python",
   "nbconvert_exporter": "python",
   "pygments_lexer": "ipython3",
   "version": "3.7.4"
  }
 },
 "nbformat": 4,
 "nbformat_minor": 2
}

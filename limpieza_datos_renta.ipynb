{
 "cells": [
  {
   "cell_type": "code",
   "execution_count": 65,
   "metadata": {
    "scrolled": true
   },
   "outputs": [],
   "source": [
    "import pandas as pd\n",
    "import re\n",
    "import numpy as np\n",
    "# Leemos el CSV con los códigos por provincia eliminando las 5 primeras columnas que ya\n",
    "# hemos visto que no son relevantes.\n"
   ]
  },
  {
   "cell_type": "code",
   "execution_count": 66,
   "metadata": {
    "scrolled": true
   },
   "outputs": [
    {
     "name": "stdout",
     "output_type": "stream",
     "text": [
      "435243248.0\n"
     ]
    }
   ],
   "source": [
    "# Función TOCHA TOCHA\n",
    "bbdd = [\"Alava\",\"Albacete\",\"Alicante\",\"Almeria\",\"Asturias\",\"Avila\",\"Badajoz\",\"Barcelona\",\n",
    "        \"Bizkaia\",\"Burgos\",\"Caceres\",\"Cadiz\",\"Cantabria\",\"Islas Baleares\",\"Castellon\",\"Ceuta\",\"Ciudad Real\",\n",
    "        \"Cordoba\",\"Coruña\",\"Cuenca\",\"Gipuzkoa\",\"Girona\",\"Granada\",\"Guadalajara\",\"Huelva\",\"Huesca\",\"Jaen\",\"La Rioja\",\n",
    "        \"Las Palmas\",\"Leon\",\"LLeida\",\"Lugo\",\"Madrid\",\"Malaga\",\"Melilla\",\"Murcia\",\"Navarra\",\"Ourense\",\"Palencia\",\"Pontevedra\",\n",
    "        \"Salamanca\",\"Santa Cruz de Tenerife\",\"Segovia\",\"Sevilla\",\"Soria\",\"Tarragona\",\"Teruel\",\"Toledo\",\"Valencia\",\n",
    "        \"Valladolid\",\"Zamora\",\"Zaragoza\"]\n",
    "\n",
    "\n",
    "def get_BBDD_rentas (bbdd):\n",
    "    #Carga de ficheros CSV\n",
    "    base = []\n",
    "    NIE = []\n",
    "    renta = []\n",
    "    poblacion = []\n",
    "    provincias = []\n",
    "    for i in bbdd:\n",
    "        provincia = i\n",
    "        datos = pd.read_csv('datos_renta/'+i+'.csv', index_col=False,encoding='iso-8859-1'\n",
    "                            ,sep=';',skiprows=5, decimal= ',',thousands='.')\n",
    "        datos.rename(columns={'Unnamed: 0':'identificador','2016':'renta'},inplace=True)\n",
    "        datos.drop(datos.tail(3).index,inplace=True)\n",
    "        for i in range(len(datos.identificador)):\n",
    "            provincias.append(provincia)\n",
    "        for i in range(len(datos.identificador)):\n",
    "            NIE_value = int(re.findall(\"[0-9]+\", datos.identificador[i])[0])\n",
    "            NIE.append(NIE_value) \n",
    "        for i in range(len(datos.identificador)):\n",
    "             nombre = re.findall(\"[a-zA-Záéíóúñ\\\\- /]+\", datos.identificador[i])[0]\n",
    "             nombre = re.sub(\" sección\",\"\",nombre)\n",
    "             nombre = re.sub(\" secci\",\"\",nombre)\n",
    "             poblacion.append(nombre)\n",
    "        for i in range(len(datos.identificador)):\n",
    "            if datos.renta[i] == '.':\n",
    "                datos.renta[i] = float('NaN')\n",
    "            if isinstance(datos.renta[i],str) == True:\n",
    "                renta_value = float(re.sub(\"\\\\.\",\"\",datos.renta[i]))\n",
    "                renta.append(renta_value)\n",
    "            else:\n",
    "                renta_value = float(datos.renta[i])\n",
    "                renta.append(renta_value)\n",
    "    d = {'provincia':provincias,'poblacion':poblacion,'NIE':NIE,'renta':renta}\n",
    "    datos = pd.DataFrame(d)\n",
    "    return datos\n",
    "\n",
    "basedatos = get_BBDD_rentas(bbdd)\n",
    "basedatos"
   ]
  },
  {
   "cell_type": "code",
   "execution_count": 50,
   "metadata": {},
   "outputs": [
    {
     "data": {
      "text/plain": [
       "'10746'"
      ]
     },
     "execution_count": 50,
     "metadata": {},
     "output_type": "execute_result"
    }
   ],
   "source": [
    "datos = pd.read_csv('datos_renta/Cantabria.csv', index_col=False,encoding='iso-8859-1'\n",
    "                    ,sep=';',skiprows=5, decimal= ',', thousands= '.')\n"
   ]
  },
  {
   "cell_type": "code",
   "execution_count": null,
   "metadata": {},
   "outputs": [],
   "source": []
  }
 ],
 "metadata": {
  "kernelspec": {
   "display_name": "Python 3",
   "language": "python",
   "name": "python3"
  },
  "language_info": {
   "codemirror_mode": {
    "name": "ipython",
    "version": 3
   },
   "file_extension": ".py",
   "mimetype": "text/x-python",
   "name": "python",
   "nbconvert_exporter": "python",
   "pygments_lexer": "ipython3",
   "version": "3.7.4"
  }
 },
 "nbformat": 4,
 "nbformat_minor": 2
}
